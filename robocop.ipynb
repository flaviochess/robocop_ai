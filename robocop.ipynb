{
  "nbformat": 4,
  "nbformat_minor": 0,
  "metadata": {
    "colab": {
      "provenance": [],
      "authorship_tag": "ABX9TyPPzj31xHC0AufqwKguZP85",
      "include_colab_link": true
    },
    "kernelspec": {
      "name": "python3",
      "display_name": "Python 3"
    },
    "language_info": {
      "name": "python"
    }
  },
  "cells": [
    {
      "cell_type": "markdown",
      "metadata": {
        "id": "view-in-github",
        "colab_type": "text"
      },
      "source": [
        "<a href=\"https://colab.research.google.com/github/flaviochess/robocop_ai/blob/main/robocop.ipynb\" target=\"_parent\"><img src=\"https://colab.research.google.com/assets/colab-badge.svg\" alt=\"Open In Colab\"/></a>"
      ]
    },
    {
      "cell_type": "markdown",
      "source": [
        "## Atenção\n",
        "Esse playbook usa a api do Gemini e por isso dele deve ser executado em um país que o Gemini está disponível: [available regions](https://ai.google.dev/gemini-api/docs/available-regions).\n",
        "\n",
        "Se estiver rodando esse playbook a partir do **Colab**, é importante se certificar que a instância na qual está rodando encontra-se em um destes países, do contrário não conseguirá usar esse playbook.\n",
        "\n",
        "O comando a seguir indica onde está rodando o Colab. Caso esteja fora da área de disponibilidade do Gemini (muitos países da Europa ainda não estão disponíveis), é necessário iniciar uma nova instância do Colab até cair em um servidor em um país onde o Gemini está disponível."
      ],
      "metadata": {
        "id": "9L9_huW7XH6t"
      }
    },
    {
      "cell_type": "code",
      "source": [
        "!curl ipinfo.io"
      ],
      "metadata": {
        "id": "83Mltz22XB_I"
      },
      "execution_count": null,
      "outputs": []
    },
    {
      "cell_type": "markdown",
      "source": [
        "### Inicializando o ambiente\n",
        "Instala as bibliotecas do Gemini"
      ],
      "metadata": {
        "id": "C0CA0VNHqdSz"
      }
    },
    {
      "cell_type": "code",
      "execution_count": null,
      "metadata": {
        "id": "lUCHraGU9Hmq"
      },
      "outputs": [],
      "source": [
        "!pip install -U -q google-generativeai"
      ]
    },
    {
      "cell_type": "markdown",
      "source": [
        "### Configurando o modelo\n",
        "Configura o modelo do Gemini. Como o projeto utiliza analise de vídeos, é necessário utilizar o Gemini 1.5 Pro, que permite o input de vídeos.\n",
        "\n",
        "Uma vez que essa versão ainda não permite costumizações como temperatura do modelo, está sendo utilizado as configurações padrão.\n",
        "\n",
        "Para executar é necessário incluir sua api_key do Gemini, executando a partir do Colab basta incluir ela em secrets com o nome `geminiApiKey`. Caso esteja executando localmente é necessário incluir sua api_key na variável `api_key`."
      ],
      "metadata": {
        "id": "ZOZmkXpequrq"
      }
    },
    {
      "cell_type": "code",
      "source": [
        "from pathlib import Path\n",
        "import hashlib\n",
        "import google.generativeai as genai\n",
        "\n",
        "from google.colab import userdata\n",
        "api_key = userdata.get('geminiApiKey')\n",
        "genai.configure(api_key=api_key)\n",
        "\n",
        "# Set the model to Gemini 1.5 Pro to analyze the video.\n",
        "model = genai.GenerativeModel(model_name=\"models/gemini-1.5-pro-latest\")"
      ],
      "metadata": {
        "id": "LFO6D3DP-dik"
      },
      "execution_count": null,
      "outputs": []
    },
    {
      "cell_type": "code",
      "source": [
        "class Grafo:\n",
        "  def __init__(self, vertices):\n",
        "    self.vertices = vertices\n",
        "    self.grafo = [[] for i in range(self.vertices)]\n",
        "\n",
        "  def adiciona_aresta(self, u, v):\n",
        "    self.grafo[u-1].append(v)\n",
        "    self.grafo[v-1].append(u)\n",
        "\n",
        "  def nexts(self, vertice):\n",
        "    return self.grafo[vertice-1]\n",
        "\n",
        "  def mostra_lista(self):\n",
        "    for i in range(self.vertices):\n",
        "      print(f'{i+1}:', end=' ')\n",
        "      for j in self.grafo[i]:\n",
        "        print(f'{j} |', end=' ')\n",
        "      print('')"
      ],
      "metadata": {
        "id": "MImBqGpRYt85"
      },
      "execution_count": null,
      "outputs": []
    },
    {
      "cell_type": "markdown",
      "source": [
        "Incializa o mapa da cidade, inteligando as ruas e assim saber todas as opções de rotas.\n",
        "\n",
        "(Posteriormente utilizar uma api como a do Google Maps para obter as opções de rotas)"
      ],
      "metadata": {
        "id": "jPrWt9ZaoT-I"
      }
    },
    {
      "cell_type": "code",
      "source": [
        "zip_codes = {\n",
        "    \"0300-100\": 1,\n",
        "    \"0300-200\": 2,\n",
        "    \"0300-300\": 3,\n",
        "    \"0300-400\": 4,\n",
        "    \"0300-500\": 5,\n",
        "    \"0300-600\": 6,\n",
        "    \"0300-700\": 7,\n",
        "    \"0300-800\": 8,\n",
        "    \"0300-900\": 9,\n",
        "    \"0400-100\": 10,\n",
        "    \"0400-200\": 11,\n",
        "    \"0400-300\": 12,\n",
        "    \"0400-400\": 13\n",
        "}\n",
        "\n",
        "streetsGraph = Grafo(13)\n",
        "\n",
        "streetsGraph.adiciona_aresta(1, 2)\n",
        "streetsGraph.adiciona_aresta(1, 6)\n",
        "streetsGraph.adiciona_aresta(2, 3)\n",
        "streetsGraph.adiciona_aresta(2, 4)\n",
        "streetsGraph.adiciona_aresta(2, 8)\n",
        "streetsGraph.adiciona_aresta(2, 9)\n",
        "streetsGraph.adiciona_aresta(3, 5)\n",
        "streetsGraph.adiciona_aresta(4, 5)\n",
        "streetsGraph.adiciona_aresta(4, 6)\n",
        "streetsGraph.adiciona_aresta(4, 9)\n",
        "streetsGraph.adiciona_aresta(6, 7)\n",
        "streetsGraph.adiciona_aresta(6, 8)\n",
        "streetsGraph.adiciona_aresta(6, 9)\n",
        "streetsGraph.adiciona_aresta(7, 10)\n",
        "streetsGraph.adiciona_aresta(7, 11)\n",
        "streetsGraph.adiciona_aresta(8, 9)\n",
        "streetsGraph.adiciona_aresta(8, 10)\n",
        "streetsGraph.adiciona_aresta(8, 12)\n",
        "streetsGraph.adiciona_aresta(9, 10)\n",
        "streetsGraph.adiciona_aresta(9, 11)\n",
        "streetsGraph.adiciona_aresta(9, 12)\n",
        "streetsGraph.adiciona_aresta(9, 13)\n",
        "streetsGraph.adiciona_aresta(10, 11)"
      ],
      "metadata": {
        "id": "FilgW_LidutO"
      },
      "execution_count": null,
      "outputs": []
    },
    {
      "cell_type": "markdown",
      "source": [
        "Testando videos:\n",
        "(continuar:\n",
        "- subir dois ou 3 videos, uma para uma metade das ruas e outro para outra)\n",
        "- mudar a pasta de frames para streets\n",
        "- para cada video mandar o path, pois cada um vai mudar a sub-pasta incluindo o nome da rua"
      ],
      "metadata": {
        "id": "m4uNcWOt0g8n"
      }
    },
    {
      "cell_type": "code",
      "source": [
        "street_one_video_cam = \"http://onsave.com.br/cdn/streets/1/video.mp4\"\n",
        "street_two_video_cam = \"http://onsave.com.br/cdn/streets/1/video.mp4\"\n",
        "street_three_video_cam = \"http://onsave.com.br/cdn/streets/1/video.mp4\"\n",
        "street_four_video_cam = \"http://onsave.com.br/cdn/streets/4/video.mp4\"\n",
        "street_five_video_cam = \"http://onsave.com.br/cdn/streets/1/video.mp4\"\n",
        "street_six_video_cam = \"http://onsave.com.br/cdn/streets/4/video.mp4\"\n",
        "street_seven_video_cam = \"http://onsave.com.br/cdn/streets/9/video.mp4\"\n",
        "street_eight_video_cam = \"http://onsave.com.br/cdn/streets/4/video.mp4\"\n",
        "street_nive_video_cam = \"http://onsave.com.br/cdn/streets/9/video.mp4\"\n",
        "street_ten_video_cam = \"http://onsave.com.br/cdn/streets/9/video.mp4\"\n",
        "street_eleven_video_cam = \"http://onsave.com.br/cdn/streets/9/video.mp4\"\n",
        "street_twelve_video_cam = \"http://onsave.com.br/cdn/streets/9/video.mp4\"\n",
        "street_thirteen_video_cam = \"http://onsave.com.br/cdn/streets/9/video.mp4\"\n",
        "\n",
        "import cv2\n",
        "import os\n",
        "import shutil\n",
        "\n",
        "# Create or cleanup existing extracted image frames directory.\n",
        "FRAME_EXTRACTION_DIRECTORY = \"/content/streets/\"\n",
        "FRAME_PREFIX = \"_frame\"\n",
        "STREET_ONE = \"1\"\n",
        "STREET_TWO = \"2\"\n",
        "STREET_THREE = \"3\"\n",
        "STREET_FOUR = \"4\"\n",
        "STREET_FIVE = \"5\"\n",
        "STREET_SIX = \"6\"\n",
        "STREET_SEVEN = \"7\"\n",
        "STREET_EIGTH = \"8\"\n",
        "STREET_NINE = \"9\"\n",
        "STREET_TEN = \"10\"\n",
        "STREET_ELEVEN = \"11\"\n",
        "STREET_TWELVE = \"12\"\n",
        "STREET_THIRTEEN = \"13\"\n",
        "\n",
        "def create_frame_output_dir(output_dir):\n",
        "  if not os.path.exists(output_dir):\n",
        "    os.makedirs(output_dir)\n",
        "  else:\n",
        "    shutil.rmtree(output_dir)\n",
        "    os.makedirs(output_dir)\n",
        "\n",
        "def extract_frame_from_video(video_file_path, street_index):\n",
        "  print(f\"Extracting {video_file_path} at 1 frame per second. This might take a bit...\")\n",
        "  street_directory = FRAME_EXTRACTION_DIRECTORY + street_index\n",
        "  create_frame_output_dir(street_directory)\n",
        "  vidcap = cv2.VideoCapture(video_file_path)\n",
        "  fps = vidcap.get(cv2.CAP_PROP_FPS)\n",
        "  frame_duration = 1 / fps  # Time interval between frames (in seconds)\n",
        "  output_file_prefix = os.path.basename(video_file_path).replace('.', '_')\n",
        "  frame_count = 0\n",
        "  count = 0\n",
        "  while vidcap.isOpened():\n",
        "      success, frame = vidcap.read()\n",
        "      if not success: # End of video\n",
        "          break\n",
        "      if int(count / fps) == frame_count: # Extract a frame every second\n",
        "          min = frame_count // 60\n",
        "          sec = frame_count % 60\n",
        "          time_string = f\"{min:02d}:{sec:02d}\"\n",
        "          image_name = f\"{output_file_prefix}{FRAME_PREFIX}{time_string}.jpg\"\n",
        "          output_filename = os.path.join(street_directory, image_name)\n",
        "          cv2.imwrite(output_filename, frame)\n",
        "          frame_count += 1\n",
        "      count += 1\n",
        "  vidcap.release() # Release the capture object\\n\",\n",
        "  print(f\"Completed video frame extraction!\\n\\nExtracted: {frame_count} frames\")\n",
        "\n",
        "def extract_frame_from_video_multiple_streets(video_file_path, street_indexes):\n",
        "  print(f\"Extracting {video_file_path} at 1 frame per second. This might take a bit...\")\n",
        "\n",
        "  for street_index in street_indexes:\n",
        "    street_directory = FRAME_EXTRACTION_DIRECTORY + street_index\n",
        "    create_frame_output_dir(street_directory)\n",
        "\n",
        "  vidcap = cv2.VideoCapture(video_file_path)\n",
        "  fps = vidcap.get(cv2.CAP_PROP_FPS)\n",
        "  frame_duration = 1 / fps  # Time interval between frames (in seconds)\n",
        "  output_file_prefix = os.path.basename(video_file_path).replace('.', '_')\n",
        "  frame_count = 0\n",
        "  count = 0\n",
        "  while vidcap.isOpened():\n",
        "      success, frame = vidcap.read()\n",
        "      if not success: # End of video\n",
        "          break\n",
        "      if int(count / fps) == frame_count: # Extract a frame every second\n",
        "          min = frame_count // 60\n",
        "          sec = frame_count % 60\n",
        "          time_string = f\"{min:02d}:{sec:02d}\"\n",
        "          image_name = f\"{output_file_prefix}{FRAME_PREFIX}{time_string}.jpg\"\n",
        "\n",
        "          for street_index in street_indexes:\n",
        "            street_directory = FRAME_EXTRACTION_DIRECTORY + street_index\n",
        "            output_filename = os.path.join(street_directory, image_name)\n",
        "            cv2.imwrite(output_filename, frame)\n",
        "          frame_count += 1\n",
        "      count += 1\n",
        "  vidcap.release() # Release the capture object\\n\",\n",
        "  print(f\"Completed video frame extraction!\\n\\nExtracted: {frame_count} frames\")\n",
        "\n",
        "# When a different video cam by street\n",
        "# extract_frame_from_video(street_one_video_cam, STREET_ONE)\n",
        "# extract_frame_from_video(street_two_video_cam, STREET_TWO)\n",
        "# extract_frame_from_video(street_three_video_cam, STREET_THREE)\n",
        "# extract_frame_from_video(street_four_video_cam, STREET_FOUR)\n",
        "# extract_frame_from_video(street_five_video_cam, STREET_FIVE)\n",
        "# extract_frame_from_video(street_six_video_cam, STREET_SIX)\n",
        "# extract_frame_from_video(street_seven_video_cam, STREET_SEVEN)\n",
        "# extract_frame_from_video(street_eight_video_cam, STREET_EIGTH)\n",
        "# extract_frame_from_video(street_nive_video_cam, STREET_NINE)\n",
        "# extract_frame_from_video(street_ten_video_cam, STREET_TEN)\n",
        "# extract_frame_from_video(street_eleven_video_cam, STREET_ELEVEN)\n",
        "# extract_frame_from_video(street_twelve_video_cam, STREET_TWELVE)\n",
        "# extract_frame_from_video(street_thirteen_video_cam, STREET_THIRTEEN)\n",
        "\n",
        "extract_frame_from_video_multiple_streets(street_one_video_cam, [STREET_ONE, STREET_TWO, STREET_THREE, STREET_FIVE])\n",
        "extract_frame_from_video_multiple_streets(street_four_video_cam, [STREET_FOUR, STREET_SIX, STREET_EIGTH])\n",
        "extract_frame_from_video_multiple_streets(street_seven_video_cam, [STREET_SEVEN, STREET_NINE, STREET_TEN, STREET_ELEVEN, STREET_TWELVE, STREET_THIRTEEN])"
      ],
      "metadata": {
        "id": "KAdY2gyQ0jaO"
      },
      "execution_count": null,
      "outputs": []
    },
    {
      "cell_type": "code",
      "source": [
        "import os\n",
        "\n",
        "class File:\n",
        "  def __init__(self, file_path: str, display_name: str = None):\n",
        "    self.file_path = file_path\n",
        "    if display_name:\n",
        "      self.display_name = display_name\n",
        "    self.timestamp = get_timestamp(file_path)\n",
        "\n",
        "  def set_file_response(self, response):\n",
        "    self.response = response\n",
        "\n",
        "def get_timestamp(filename):\n",
        "  \"\"\"Extracts the frame count (as an integer) from a filename with the format\n",
        "     'output_file_prefix_frame00:00.jpg'.\n",
        "  \"\"\"\n",
        "  parts = filename.split(FRAME_PREFIX)\n",
        "  if len(parts) != 2:\n",
        "      return None  # Indicates the filename might be incorrectly formatted\n",
        "  return parts[1].split('.')[0]"
      ],
      "metadata": {
        "id": "c3TUoo0H2Lk7"
      },
      "execution_count": null,
      "outputs": []
    },
    {
      "cell_type": "markdown",
      "source": [
        "Procura o carro em uma rua em específico:"
      ],
      "metadata": {
        "id": "Qi-B1P9lH8vi"
      }
    },
    {
      "cell_type": "code",
      "source": [
        "import json\n",
        "\n",
        "# Upload the files to the API\n",
        "# Change full_video to False to only upload a 10 second slice of files to reduce upload time.\n",
        "# Change full_video to True to upload the whole video.\n",
        "full_video = True\n",
        "\n",
        "# Uploaded files at Gemini\n",
        "uploaded_files = []\n",
        "\n",
        "def clean_gemini_videos():\n",
        "  try:\n",
        "    print(f'Limpando Gemini videos ({len(uploaded_files)} arquivos)...')\n",
        "    for file in uploaded_files:\n",
        "      genai.delete_file(file.response.name)\n",
        "      print(f'Arquivo {file.file_path} deletado')\n",
        "    print(\"Limpeza finalizada!\")\n",
        "  except:\n",
        "    print(\"Limpeza não finalizada, mas o processo continuará...\")\n",
        "\n",
        "def load_street_video_can_to_gemini(street_index):\n",
        "  #clean_gemini_videos()\n",
        "  uploaded_files = []\n",
        "\n",
        "  street_directory = FRAME_EXTRACTION_DIRECTORY + str(street_index)\n",
        "  files = os.listdir(street_directory)\n",
        "  files = sorted(files)\n",
        "  files_to_upload = []\n",
        "  for file in files:\n",
        "    files_to_upload.append(\n",
        "        File(file_path=os.path.join(street_directory, file)))\n",
        "\n",
        "  print(f'Carregando {len(files_to_upload) if full_video else 10} arquivos da rua {street_index}. Isso pode demorar um pouco...')\n",
        "\n",
        "  for file in files_to_upload if full_video else files_to_upload[40:50]:\n",
        "    print(f'Uploading: {file.file_path}...')\n",
        "    response = genai.upload_file(path=file.file_path)\n",
        "    file.set_file_response(response)\n",
        "    uploaded_files.append(file)\n",
        "\n",
        "  print(\"Video carregado!\")\n",
        "\n",
        "\n",
        "def make_gemini_request(prompt, files):\n",
        "  request = [prompt]\n",
        "  for file in files:\n",
        "    request.append(file.timestamp)\n",
        "    request.append(file.response)\n",
        "  return request\n",
        "\n",
        "#TODO: checar se tem videos para aquela rua\n",
        "def is_car_on_street(street_index, car_tag):\n",
        "  print(f\"Procurando carro {car_tag} na rua {street_index}...\")\n",
        "  load_street_video_can_to_gemini(street_index)\n",
        "\n",
        "  # Create the prompt.\n",
        "  prompt = f'''No vídeo procure por um carro com a placa \"{car_tag.replace(\"-\", \" \")}\" ou similar.\n",
        "               O resultado deve ser em formato JSON (sem marcações markdown) contendo um atributo \"similaridade\" indicando de 0 a 100\n",
        "               qual é a similaridade da placa encontrada com o valor \"{car_tag.replace(\"-\", \" \")}\".\n",
        "               Se a similaridade for maior que zero, inclua também os atributos \"cor\" indicando a cor do carro encontrado,\n",
        "               \"fabricante\" indicando o fabricante do carro encontrado, \"placa\" indicando a placa do carro encontrado e \"instante\" indicando\n",
        "               o último instante em que o carro aparece no vídeo'''\n",
        "\n",
        "  request = make_gemini_request(prompt, uploaded_files)\n",
        "  response = model.generate_content(request,\n",
        "                                    request_options={\"timeout\": 600})\n",
        "\n",
        "  print(f'Debug, Gemini answer: {response.text.replace(\"`\", \"\").replace(\"json\", \"\")}')\n",
        "\n",
        "  return json.loads(response.text.replace(\"`\", \"\").replace(\"json\", \"\"))\n"
      ],
      "metadata": {
        "id": "_rDBh3frH6yf"
      },
      "execution_count": null,
      "outputs": []
    },
    {
      "cell_type": "code",
      "source": [
        "import time\n",
        "\n",
        "def remove_when_exists(arr, values):\n",
        "  if len(values) == 0:\n",
        "    return arr\n",
        "\n",
        "  for value in values:\n",
        "    try:\n",
        "      arr.remove(value)\n",
        "    except:\n",
        "      None\n",
        "\n",
        "  return arr\n",
        "\n",
        "\n",
        "def find_my_car(car_tag, last_found, next_possibilities, checked_streets, last_found_result):\n",
        "  if len(next_possibilities) > 0:\n",
        "    street_index = next_possibilities[0]\n",
        "    try:\n",
        "      find_result = is_car_on_street(street_index, car_tag)\n",
        "      checked_streets.append(street_index)\n",
        "\n",
        "      if find_result[\"similaridade\"] > 60:\n",
        "        print(f\"#### carro visto na rua {street_index} ####\")\n",
        "        print(\"verificando próximas ruas...\")\n",
        "        time.sleep(6) # para evitar exaustão do modelo por muitos requests no uso free\n",
        "        next_streets = streetsGraph.nexts(street_index)\n",
        "        return find_my_car(car_tag, street_index, remove_when_exists(next_streets, checked_streets), checked_streets, find_result)\n",
        "      elif len(next_possibilities) > 1:\n",
        "        next_possibilities.remove(street_index)\n",
        "        return find_my_car(car_tag, last_found, next_possibilities, checked_streets, last_found_result)\n",
        "      else:\n",
        "        return (last_found, last_found_result)\n",
        "    except:\n",
        "      print(\"##### parece que muitas requisições foram feitas, se está usando uma versão free aguarde um pouco ou reinicie a busca a partir da última rua encontrada #####\")\n",
        "      return (last_found, last_found_result)\n",
        "\n",
        "\n",
        "\n",
        "def find(car_tag, ref_street):\n",
        "  try:\n",
        "    last_found, last_result = find_my_car(car_tag, None, [ref_street], [], {})\n",
        "    if last_found == None:\n",
        "      print(f'Não foi possível encontrar com ajuda de IA o carro na rua {ref_street}')\n",
        "    else:\n",
        "      print(f'Probabilidade de {last_result[\"similaridade\"]}% do carro estar na rua {last_found}')\n",
        "  except:\n",
        "    print(\"Processo interrompido inesperadamente, por favor, continue a busca da última rua encontrada.\")\n"
      ],
      "metadata": {
        "id": "Nky-bXgNXa20"
      },
      "execution_count": null,
      "outputs": []
    },
    {
      "cell_type": "code",
      "source": [
        "find(\"5660-LMW\", 1)"
      ],
      "metadata": {
        "id": "74fzrANzVF19"
      },
      "execution_count": null,
      "outputs": []
    }
  ]
}